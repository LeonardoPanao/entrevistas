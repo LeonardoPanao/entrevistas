{
 "cells": [
  {
   "cell_type": "markdown",
   "metadata": {
    "application/vnd.databricks.v1+cell": {
     "cellMetadata": {},
     "inputWidgets": {},
     "nuid": "6389243f-5628-4cca-be70-ce0acdff86c4",
     "showTitle": false,
     "title": ""
    }
   },
   "source": [
    "## 1 - Importação das bibliotecas"
   ]
  },
  {
   "cell_type": "code",
   "execution_count": 0,
   "metadata": {
    "application/vnd.databricks.v1+cell": {
     "cellMetadata": {
      "byteLimit": 2048000,
      "rowLimit": 10000
     },
     "inputWidgets": {},
     "nuid": "45ad644c-e4a2-4e98-a8f0-fbc8bde0f097",
     "showTitle": false,
     "title": ""
    }
   },
   "outputs": [],
   "source": [
    "import random"
   ]
  },
  {
   "cell_type": "markdown",
   "metadata": {
    "application/vnd.databricks.v1+cell": {
     "cellMetadata": {
      "byteLimit": 2048000,
      "rowLimit": 10000
     },
     "inputWidgets": {},
     "nuid": "75cd2482-fcf4-40ab-9c16-bbe769f5f648",
     "showTitle": false,
     "title": ""
    }
   },
   "source": [
    "## 2 - Funções"
   ]
  },
  {
   "cell_type": "markdown",
   "metadata": {
    "application/vnd.databricks.v1+cell": {
     "cellMetadata": {
      "byteLimit": 2048000,
      "rowLimit": 10000
     },
     "inputWidgets": {},
     "nuid": "9a1d6b63-3b18-43a5-a070-375e00f47086",
     "showTitle": false,
     "title": ""
    }
   },
   "source": [
    "## 2.1 - Recebe duas matrizes por parâmetro e realiza a multiplicação (Linha * coluna) e soma dos valores"
   ]
  },
  {
   "cell_type": "code",
   "execution_count": 0,
   "metadata": {
    "application/vnd.databricks.v1+cell": {
     "cellMetadata": {
      "byteLimit": 2048000,
      "rowLimit": 10000
     },
     "inputWidgets": {},
     "nuid": "58b1d144-2160-424a-a999-ea53153110eb",
     "showTitle": false,
     "title": ""
    }
   },
   "outputs": [],
   "source": [
    "def multiplicar_matriz(a, b):\n",
    "    n = len(a)\n",
    "    result = [[0] * n for _ in range(n)]\n",
    "    \n",
    "    for i in range(n):\n",
    "        for j in range(n):\n",
    "            for k in range(n):\n",
    "                result[i][j] += a[i][k] * b[k][j]\n",
    "    return result"
   ]
  },
  {
   "cell_type": "markdown",
   "metadata": {
    "application/vnd.databricks.v1+cell": {
     "cellMetadata": {
      "byteLimit": 2048000,
      "rowLimit": 10000
     },
     "inputWidgets": {},
     "nuid": "78855b42-fd88-4c19-bab7-cdf2b3e26245",
     "showTitle": false,
     "title": ""
    }
   },
   "source": [
    "## 2.2 - Recebe uma matriz e imprime seus valores."
   ]
  },
  {
   "cell_type": "code",
   "execution_count": 0,
   "metadata": {
    "application/vnd.databricks.v1+cell": {
     "cellMetadata": {
      "byteLimit": 2048000,
      "rowLimit": 10000
     },
     "inputWidgets": {},
     "nuid": "3cab7ea2-c756-4bc7-9bb2-4197250ed2f2",
     "showTitle": false,
     "title": ""
    }
   },
   "outputs": [],
   "source": [
    "def imprimir_matriz(matriz):\n",
    "    for row in matriz:\n",
    "        print(' '.join(str(elem) for elem in row))"
   ]
  },
  {
   "cell_type": "markdown",
   "metadata": {
    "application/vnd.databricks.v1+cell": {
     "cellMetadata": {
      "byteLimit": 2048000,
      "rowLimit": 10000
     },
     "inputWidgets": {},
     "nuid": "7c346a36-f559-489d-ac7d-9fd049c16e22",
     "showTitle": false,
     "title": ""
    }
   },
   "source": [
    "## 2.3 - Cria uma matriz preenchida com números inteiros aleatórios"
   ]
  },
  {
   "cell_type": "code",
   "execution_count": 0,
   "metadata": {
    "application/vnd.databricks.v1+cell": {
     "cellMetadata": {
      "byteLimit": 2048000,
      "rowLimit": 10000
     },
     "inputWidgets": {},
     "nuid": "b845e7cd-1f15-4971-a282-6253395e16e2",
     "showTitle": false,
     "title": ""
    }
   },
   "outputs": [],
   "source": [
    "def gerar_matriz(n):\n",
    "    return [[random.randint(1, 30) for _ in range(n)] for _ in range(n)]"
   ]
  },
  {
   "cell_type": "markdown",
   "metadata": {
    "application/vnd.databricks.v1+cell": {
     "cellMetadata": {
      "byteLimit": 2048000,
      "rowLimit": 10000
     },
     "inputWidgets": {},
     "nuid": "84546d48-3edb-4e81-97a0-559d24d22293",
     "showTitle": false,
     "title": ""
    }
   },
   "source": [
    "## 3 - Chamando as funções e imprimindo os seus valores"
   ]
  },
  {
   "cell_type": "code",
   "execution_count": 0,
   "metadata": {
    "application/vnd.databricks.v1+cell": {
     "cellMetadata": {
      "byteLimit": 2048000,
      "rowLimit": 10000
     },
     "inputWidgets": {},
     "nuid": "ceedbd89-db42-482a-9338-2cc4a058c338",
     "showTitle": false,
     "title": ""
    }
   },
   "outputs": [
    {
     "output_type": "stream",
     "name": "stdout",
     "output_type": "stream",
     "text": [
      "Matriz A:\n10 26 18 22\n26 11 11 9\n26 20 3 21\n5 17 13 17\n\nMatriz B:\n12 14 9 2\n4 19 24 3\n16 2 28 21\n21 12 29 12\n\nProduto:\n974 934 1856 740\n721 703 1067 424\n881 1002 1407 427\n693 623 1310 538\n"
     ]
    }
   ],
   "source": [
    "n = 4\n",
    "\n",
    "a = gerar_matriz(n)\n",
    "b = gerar_matriz(n)\n",
    "\n",
    "produto = multiplicar_matriz(a, b)\n",
    "\n",
    "print(\"Matriz A:\")\n",
    "imprimir_matriz(a)\n",
    "print()\n",
    "\n",
    "print(\"Matriz B:\")\n",
    "imprimir_matriz(b)\n",
    "print()\n",
    "\n",
    "print(\"Produto:\")\n",
    "imprimir_matriz(produto)"
   ]
  }
 ],
 "metadata": {
  "application/vnd.databricks.v1+notebook": {
   "dashboards": [],
   "language": "python",
   "notebookMetadata": {
    "pythonIndentUnit": 2
   },
   "notebookName": "confitec_calculo_matriz",
   "widgets": {}
  }
 },
 "nbformat": 4,
 "nbformat_minor": 0
}
