{
 "cells": [
  {
   "cell_type": "markdown",
   "metadata": {
    "application/vnd.databricks.v1+cell": {
     "cellMetadata": {},
     "inputWidgets": {},
     "nuid": "839fd1fc-2ddd-45a5-85ee-00bd522553b5",
     "showTitle": false,
     "title": ""
    }
   },
   "source": [
    "## Importação de Bibliotecas"
   ]
  },
  {
   "cell_type": "code",
   "execution_count": 0,
   "metadata": {
    "application/vnd.databricks.v1+cell": {
     "cellMetadata": {
      "byteLimit": 2048000,
      "rowLimit": 10000
     },
     "inputWidgets": {},
     "nuid": "ddcf98bf-6447-4fee-9f52-c5ef9826a779",
     "showTitle": false,
     "title": ""
    }
   },
   "outputs": [],
   "source": [
    "import unicodedata\n",
    "from pyspark.sql import functions\n",
    "from pyspark.sql.window import Window\n",
    "from pyspark.sql.functions import udf\n",
    "from pyspark.sql.functions import col, count, months_between, current_date, date_format, to_timestamp, lpad, regexp_replace"
   ]
  },
  {
   "cell_type": "markdown",
   "metadata": {
    "application/vnd.databricks.v1+cell": {
     "cellMetadata": {
      "byteLimit": 2048000,
      "rowLimit": 10000
     },
     "inputWidgets": {},
     "nuid": "e9046470-6c1e-4923-8ce4-3ae99a8e1c32",
     "showTitle": false,
     "title": ""
    }
   },
   "source": [
    "## Criação do DataFrame"
   ]
  },
  {
   "cell_type": "code",
   "execution_count": 0,
   "metadata": {
    "application/vnd.databricks.v1+cell": {
     "cellMetadata": {
      "byteLimit": 2048000,
      "rowLimit": 10000
     },
     "inputWidgets": {},
     "nuid": "c2b107d2-07a9-447a-bea0-e006420bcb20",
     "showTitle": false,
     "title": ""
    }
   },
   "outputs": [],
   "source": [
    "df_produto = spark.createDataFrame(\n",
    "    [\n",
    "        (\"001\", \"1\", \"Televisor\"),\n",
    "        (\"002\", \"1\", \"Televisor\"),\n",
    "        (\"003\", \"1\", \"Televisor\"),\n",
    "        (\"004\", \"3\", \"Violao\"),\n",
    "        (\"005\", \"5\", \"Xbox One\"),\n",
    "        (\"006\", \"10\", \"Geladeira\")\n",
    "    ],\n",
    "    [\"cod_cli\", \"cod_prod\", \"nome\"]\n",
    ")"
   ]
  },
  {
   "cell_type": "code",
   "execution_count": 0,
   "metadata": {
    "application/vnd.databricks.v1+cell": {
     "cellMetadata": {
      "byteLimit": 2048000,
      "rowLimit": 10000
     },
     "inputWidgets": {},
     "nuid": "a16f857a-8243-404d-87f5-d4f0da8f1e92",
     "showTitle": false,
     "title": ""
    }
   },
   "outputs": [],
   "source": [
    "df_cliente = spark.createDataFrame(\n",
    "    [\n",
    "        (\"001\", \"José\", \"Anápolis\", \"São Paulo\", \"01-09-1900\"),\n",
    "        (\"02\", \"Igor\", \"Anápolis\", \"São Paulo\", \"11-09-1977\"),\n",
    "        (\"3\", \"Leonardo\", \"Anápolis\", \"São Paulo\", \"21-12-2000\"),\n",
    "        (\"04\", \"Humberto\", \"Pato Branco\", \"Rio Grande do Sul\", \"13-11-1964\"),\n",
    "        (\"005\", \"Isaias\", \"Pato Branco\", \"Rio Grande do Sul\", \"07-07-2002\"),\n",
    "        (\"6\", \"Lucas\", \"Taua\", \"Ceará\", \"05-09-1984\")\n",
    "    ],\n",
    "    [\"cod_cliente\", \"Nome\", \"Município\", \"Estado\", \"data_nascimento\"]\n",
    ")"
   ]
  },
  {
   "cell_type": "code",
   "execution_count": 0,
   "metadata": {
    "application/vnd.databricks.v1+cell": {
     "cellMetadata": {
      "byteLimit": 2048000,
      "rowLimit": 10000
     },
     "inputWidgets": {},
     "nuid": "f44e8823-2a2e-4729-b0bd-f86c7200e405",
     "showTitle": false,
     "title": ""
    }
   },
   "outputs": [
    {
     "output_type": "stream",
     "name": "stdout",
     "output_type": "stream",
     "text": [
      "+-----------+--------+-----------+-----------------+---------------+\n|cod_cliente|    Nome|  Município|           Estado|data_nascimento|\n+-----------+--------+-----------+-----------------+---------------+\n|        001|    José|   Anápolis|        São Paulo|     01-09-1900|\n|         02|    Igor|   Anápolis|        São Paulo|     11-09-1977|\n|          3|Leonardo|   Anápolis|        São Paulo|     21-12-2000|\n|         04|Humberto|Pato Branco|Rio Grande do Sul|     13-11-1964|\n|        005|  Isaias|Pato Branco|Rio Grande do Sul|     07-07-2002|\n|          6|   Lucas|       Taua|            Ceará|     05-09-1984|\n+-----------+--------+-----------+-----------------+---------------+\n\n"
     ]
    }
   ],
   "source": [
    "df_cliente.show()"
   ]
  },
  {
   "cell_type": "markdown",
   "metadata": {
    "application/vnd.databricks.v1+cell": {
     "cellMetadata": {
      "byteLimit": 2048000,
      "rowLimit": 10000
     },
     "inputWidgets": {},
     "nuid": "601b5814-bdce-4249-868b-3c79dc02d338",
     "showTitle": false,
     "title": ""
    }
   },
   "source": [
    "## Inicio do tratamento dos dados"
   ]
  },
  {
   "cell_type": "code",
   "execution_count": 0,
   "metadata": {
    "application/vnd.databricks.v1+cell": {
     "cellMetadata": {
      "byteLimit": 2048000,
      "rowLimit": 10000
     },
     "inputWidgets": {},
     "nuid": "07d02a9c-0922-4062-b2e6-b26008225879",
     "showTitle": false,
     "title": ""
    }
   },
   "outputs": [],
   "source": [
    "df_cliente = df_cliente.withColumnRenamed('cod_cliente', 'cod_cli')"
   ]
  },
  {
   "cell_type": "code",
   "execution_count": 0,
   "metadata": {
    "application/vnd.databricks.v1+cell": {
     "cellMetadata": {
      "byteLimit": 2048000,
      "rowLimit": 10000
     },
     "inputWidgets": {},
     "nuid": "5e3fd472-5785-483b-a107-afdc9c9eef82",
     "showTitle": false,
     "title": ""
    }
   },
   "outputs": [],
   "source": [
    "WindowSpec = Window.partitionBy(\"Município\")\n",
    "df_cliente = df_cliente.withColumn(\"qtd_municipio\" ,\n",
    "                                count(\"Município\").over(WindowSpec))\n",
    "df_cliente = df_cliente.sort(\"Estado\")"
   ]
  },
  {
   "cell_type": "code",
   "execution_count": 0,
   "metadata": {
    "application/vnd.databricks.v1+cell": {
     "cellMetadata": {
      "byteLimit": 2048000,
      "rowLimit": 10000
     },
     "inputWidgets": {},
     "nuid": "e6f49e73-cb40-465b-a1b6-c90b1ffebfc4",
     "showTitle": false,
     "title": ""
    }
   },
   "outputs": [
    {
     "output_type": "stream",
     "name": "stdout",
     "output_type": "stream",
     "text": [
      "+-------+--------+-----------+-----------------+---------------+-------------+\n|cod_cli|    Nome|  Município|           Estado|data_nascimento|qtd_municipio|\n+-------+--------+-----------+-----------------+---------------+-------------+\n|      6|   Lucas|       Taua|            Ceará|     05-09-1984|            1|\n|     04|Humberto|Pato Branco|Rio Grande do Sul|     13-11-1964|            2|\n|    005|  Isaias|Pato Branco|Rio Grande do Sul|     07-07-2002|            2|\n|    001|    José|   Anápolis|        São Paulo|     01-09-1900|            3|\n|     02|    Igor|   Anápolis|        São Paulo|     11-09-1977|            3|\n|      3|Leonardo|   Anápolis|        São Paulo|     21-12-2000|            3|\n+-------+--------+-----------+-----------------+---------------+-------------+\n\n"
     ]
    }
   ],
   "source": [
    "df_cliente.show()"
   ]
  },
  {
   "cell_type": "code",
   "execution_count": 0,
   "metadata": {
    "application/vnd.databricks.v1+cell": {
     "cellMetadata": {
      "byteLimit": 2048000,
      "rowLimit": 10000
     },
     "inputWidgets": {},
     "nuid": "00743d30-9c01-4ac1-a8f7-98ba357184d3",
     "showTitle": false,
     "title": ""
    }
   },
   "outputs": [],
   "source": [
    "df_cliente = df_cliente.withColumn('Idade', (months_between(current_date(), to_timestamp(col(\"data_nascimento\"),'dd-MM-yyyy')) / 12).cast('int'))"
   ]
  },
  {
   "cell_type": "code",
   "execution_count": 0,
   "metadata": {
    "application/vnd.databricks.v1+cell": {
     "cellMetadata": {
      "byteLimit": 2048000,
      "rowLimit": 10000
     },
     "inputWidgets": {},
     "nuid": "e8cee3d6-b32e-4876-822e-7e755d4704dd",
     "showTitle": false,
     "title": ""
    }
   },
   "outputs": [
    {
     "output_type": "stream",
     "name": "stdout",
     "output_type": "stream",
     "text": [
      "+-------+--------+-----------+-----------------+---------------+-------------+-----+\n|cod_cli|    Nome|  Município|           Estado|data_nascimento|qtd_municipio|Idade|\n+-------+--------+-----------+-----------------+---------------+-------------+-----+\n|      6|   Lucas|       Taua|            Ceará|     05-09-1984|            1|   39|\n|     04|Humberto|Pato Branco|Rio Grande do Sul|     13-11-1964|            2|   59|\n|    005|  Isaias|Pato Branco|Rio Grande do Sul|     07-07-2002|            2|   21|\n|    001|    José|   Anápolis|        São Paulo|     01-09-1900|            3|  123|\n|     02|    Igor|   Anápolis|        São Paulo|     11-09-1977|            3|   46|\n|      3|Leonardo|   Anápolis|        São Paulo|     21-12-2000|            3|   23|\n+-------+--------+-----------+-----------------+---------------+-------------+-----+\n\n"
     ]
    }
   ],
   "source": [
    "df_cliente.show()"
   ]
  },
  {
   "cell_type": "code",
   "execution_count": 0,
   "metadata": {
    "application/vnd.databricks.v1+cell": {
     "cellMetadata": {
      "byteLimit": 2048000,
      "rowLimit": 10000
     },
     "inputWidgets": {},
     "nuid": "fcad154d-f74a-4283-a796-132b7b88b528",
     "showTitle": false,
     "title": ""
    }
   },
   "outputs": [],
   "source": [
    "df_cliente = df_cliente.withColumn('cod_cli', lpad(col(\"cod_cli\"), 3, '0'))"
   ]
  },
  {
   "cell_type": "code",
   "execution_count": 0,
   "metadata": {
    "application/vnd.databricks.v1+cell": {
     "cellMetadata": {
      "byteLimit": 2048000,
      "rowLimit": 10000
     },
     "inputWidgets": {},
     "nuid": "e9a38f0c-4c52-427f-9aca-e3e345cb4aa6",
     "showTitle": false,
     "title": ""
    }
   },
   "outputs": [
    {
     "output_type": "stream",
     "name": "stdout",
     "output_type": "stream",
     "text": [
      "+-------+--------+-----------+-----------------+---------------+-------------+-----+\n|cod_cli|    Nome|  Município|           Estado|data_nascimento|qtd_municipio|Idade|\n+-------+--------+-----------+-----------------+---------------+-------------+-----+\n|    006|   Lucas|       Taua|            Ceará|     05-09-1984|            1|   39|\n|    004|Humberto|Pato Branco|Rio Grande do Sul|     13-11-1964|            2|   59|\n|    005|  Isaias|Pato Branco|Rio Grande do Sul|     07-07-2002|            2|   21|\n|    001|    José|   Anápolis|        São Paulo|     01-09-1900|            3|  123|\n|    002|    Igor|   Anápolis|        São Paulo|     11-09-1977|            3|   46|\n|    003|Leonardo|   Anápolis|        São Paulo|     21-12-2000|            3|   23|\n+-------+--------+-----------+-----------------+---------------+-------------+-----+\n\n"
     ]
    }
   ],
   "source": [
    "df_cliente.show()"
   ]
  },
  {
   "cell_type": "code",
   "execution_count": 0,
   "metadata": {
    "application/vnd.databricks.v1+cell": {
     "cellMetadata": {
      "byteLimit": 2048000,
      "rowLimit": 10000
     },
     "inputWidgets": {},
     "nuid": "6dd60f97-615b-471e-a4ea-6b2b266b48f5",
     "showTitle": false,
     "title": ""
    }
   },
   "outputs": [],
   "source": [
    "df_cliente = df_cliente.withColumn('data_atualizacao', current_date())"
   ]
  },
  {
   "cell_type": "code",
   "execution_count": 0,
   "metadata": {
    "application/vnd.databricks.v1+cell": {
     "cellMetadata": {
      "byteLimit": 2048000,
      "rowLimit": 10000
     },
     "inputWidgets": {},
     "nuid": "2a7bd702-a6b8-4873-acc7-31e990939b3d",
     "showTitle": false,
     "title": ""
    }
   },
   "outputs": [
    {
     "output_type": "stream",
     "name": "stdout",
     "output_type": "stream",
     "text": [
      "+-------+--------+-----------+-----------------+---------------+-------------+-----+----------------+\n|cod_cli|    Nome|  Município|           Estado|data_nascimento|qtd_municipio|Idade|data_atualizacao|\n+-------+--------+-----------+-----------------+---------------+-------------+-----+----------------+\n|    006|   Lucas|       Taua|            Ceará|     05-09-1984|            1|   39|      2024-01-26|\n|    004|Humberto|Pato Branco|Rio Grande do Sul|     13-11-1964|            2|   59|      2024-01-26|\n|    005|  Isaias|Pato Branco|Rio Grande do Sul|     07-07-2002|            2|   21|      2024-01-26|\n|    001|    José|   Anápolis|        São Paulo|     01-09-1900|            3|  123|      2024-01-26|\n|    002|    Igor|   Anápolis|        São Paulo|     11-09-1977|            3|   46|      2024-01-26|\n|    003|Leonardo|   Anápolis|        São Paulo|     21-12-2000|            3|   23|      2024-01-26|\n+-------+--------+-----------+-----------------+---------------+-------------+-----+----------------+\n\n"
     ]
    }
   ],
   "source": [
    "df_cliente.show()"
   ]
  },
  {
   "cell_type": "code",
   "execution_count": 0,
   "metadata": {
    "application/vnd.databricks.v1+cell": {
     "cellMetadata": {
      "byteLimit": 2048000,
      "rowLimit": 10000
     },
     "inputWidgets": {},
     "nuid": "d5ec136a-69b0-4658-bbca-dda549c88f89",
     "showTitle": false,
     "title": ""
    }
   },
   "outputs": [],
   "source": [
    "def removes (string: str) -> str:\n",
    "    normalized = unicodedata.normalize('NFD',string)\n",
    "    return normalized.encode('ascii','ignore').decode('utf8').casefold()\n",
    "\n",
    "removeudf = udf(lambda z: removes(z))\n",
    "\n",
    "#ja removendo a coluna\n",
    "df_cliente = df_cliente.withColumn(\"Estado\",removeudf(col('Estado')))"
   ]
  },
  {
   "cell_type": "code",
   "execution_count": 0,
   "metadata": {
    "application/vnd.databricks.v1+cell": {
     "cellMetadata": {
      "byteLimit": 2048000,
      "rowLimit": 10000
     },
     "inputWidgets": {},
     "nuid": "31c79c25-862a-48f4-8315-560be2719ca4",
     "showTitle": false,
     "title": ""
    }
   },
   "outputs": [
    {
     "output_type": "stream",
     "name": "stdout",
     "output_type": "stream",
     "text": [
      "+-------+--------+-----------+-----------------+---------------+-------------+-----+----------------+\n|cod_cli|    Nome|  Município|           Estado|data_nascimento|qtd_municipio|Idade|data_atualizacao|\n+-------+--------+-----------+-----------------+---------------+-------------+-----+----------------+\n|    006|   Lucas|       Taua|            ceara|     05-09-1984|            1|   39|      2024-01-26|\n|    004|Humberto|Pato Branco|rio grande do sul|     13-11-1964|            2|   59|      2024-01-26|\n|    005|  Isaias|Pato Branco|rio grande do sul|     07-07-2002|            2|   21|      2024-01-26|\n|    001|    José|   Anápolis|        sao paulo|     01-09-1900|            3|  123|      2024-01-26|\n|    002|    Igor|   Anápolis|        sao paulo|     11-09-1977|            3|   46|      2024-01-26|\n|    003|Leonardo|   Anápolis|        sao paulo|     21-12-2000|            3|   23|      2024-01-26|\n+-------+--------+-----------+-----------------+---------------+-------------+-----+----------------+\n\n"
     ]
    }
   ],
   "source": [
    "df_cliente.show()"
   ]
  },
  {
   "cell_type": "code",
   "execution_count": 0,
   "metadata": {
    "application/vnd.databricks.v1+cell": {
     "cellMetadata": {
      "byteLimit": 2048000,
      "rowLimit": 10000
     },
     "inputWidgets": {},
     "nuid": "704b5a9e-ec62-4f50-a4f8-772de6cc8e5b",
     "showTitle": false,
     "title": ""
    }
   },
   "outputs": [],
   "source": [
    "df_vendas = df_cliente.join(df_produto, df_produto.cod_cli == df_cliente.cod_cli, how='left')"
   ]
  },
  {
   "cell_type": "code",
   "execution_count": 0,
   "metadata": {
    "application/vnd.databricks.v1+cell": {
     "cellMetadata": {
      "byteLimit": 2048000,
      "rowLimit": 10000
     },
     "inputWidgets": {},
     "nuid": "f4ec71d0-8fef-4235-86d2-46615adf8a1b",
     "showTitle": false,
     "title": ""
    }
   },
   "outputs": [
    {
     "output_type": "stream",
     "name": "stdout",
     "output_type": "stream",
     "text": [
      "+-------+--------+-----------+-----------------+---------------+-------------+-----+----------------+-------+--------+---------+\n|cod_cli|    Nome|  Município|           Estado|data_nascimento|qtd_municipio|Idade|data_atualizacao|cod_cli|cod_prod|     nome|\n+-------+--------+-----------+-----------------+---------------+-------------+-----+----------------+-------+--------+---------+\n|    001|    José|   Anápolis|        sao paulo|     01-09-1900|            3|  123|      2024-01-26|    001|       1|Televisor|\n|    002|    Igor|   Anápolis|        sao paulo|     11-09-1977|            3|   46|      2024-01-26|    002|       1|Televisor|\n|    003|Leonardo|   Anápolis|        sao paulo|     21-12-2000|            3|   23|      2024-01-26|    003|       1|Televisor|\n|    004|Humberto|Pato Branco|rio grande do sul|     13-11-1964|            2|   59|      2024-01-26|    004|       3|   Violao|\n|    005|  Isaias|Pato Branco|rio grande do sul|     07-07-2002|            2|   21|      2024-01-26|    005|       5| Xbox One|\n|    006|   Lucas|       Taua|            ceara|     05-09-1984|            1|   39|      2024-01-26|    006|      10|Geladeira|\n+-------+--------+-----------+-----------------+---------------+-------------+-----+----------------+-------+--------+---------+\n\n"
     ]
    }
   ],
   "source": [
    "df_vendas.show()"
   ]
  },
  {
   "cell_type": "markdown",
   "metadata": {
    "application/vnd.databricks.v1+cell": {
     "cellMetadata": {
      "byteLimit": 2048000,
      "rowLimit": 10000
     },
     "inputWidgets": {},
     "nuid": "8d9d1df3-cc38-4682-9e1c-3c3a65e1ba5e",
     "showTitle": false,
     "title": ""
    }
   },
   "source": [
    "## Fim dos Tratamentos e inicio do Spark SQL"
   ]
  },
  {
   "cell_type": "code",
   "execution_count": 0,
   "metadata": {
    "application/vnd.databricks.v1+cell": {
     "cellMetadata": {
      "byteLimit": 2048000,
      "rowLimit": 10000
     },
     "inputWidgets": {},
     "nuid": "92817b4a-3baa-4950-956e-859bd40670d8",
     "showTitle": false,
     "title": ""
    }
   },
   "outputs": [],
   "source": [
    "df_cliente.createOrReplaceTempView('tblcliente')"
   ]
  },
  {
   "cell_type": "code",
   "execution_count": 0,
   "metadata": {
    "application/vnd.databricks.v1+cell": {
     "cellMetadata": {
      "byteLimit": 2048000,
      "implicitDf": true,
      "rowLimit": 10000
     },
     "inputWidgets": {},
     "nuid": "f8f3734d-754e-4e20-9460-2fefdf131c56",
     "showTitle": false,
     "title": ""
    }
   },
   "outputs": [
    {
     "output_type": "display_data",
     "data": {
      "text/html": [
       "<style scoped>\n",
       "  .table-result-container {\n",
       "    max-height: 300px;\n",
       "    overflow: auto;\n",
       "  }\n",
       "  table, th, td {\n",
       "    border: 1px solid black;\n",
       "    border-collapse: collapse;\n",
       "  }\n",
       "  th, td {\n",
       "    padding: 5px;\n",
       "  }\n",
       "  th {\n",
       "    text-align: left;\n",
       "  }\n",
       "</style><div class='table-result-container'><table class='table-result'><thead style='background-color: white'><tr><th>cod_cli</th><th>Nome</th><th>Município</th><th>Estado</th><th>data_nascimento</th><th>qtd_municipio</th><th>Idade</th><th>data_atualizacao</th></tr></thead><tbody><tr><td>006</td><td>Lucas</td><td>Taua</td><td>ceara</td><td>05-09-1984</td><td>1</td><td>39</td><td>2024-01-26</td></tr></tbody></table></div>"
      ]
     },
     "metadata": {
      "application/vnd.databricks.v1+output": {
       "addedWidgets": {},
       "aggData": [],
       "aggError": "",
       "aggOverflow": false,
       "aggSchema": [],
       "aggSeriesLimitReached": false,
       "aggType": "",
       "arguments": {},
       "columnCustomDisplayInfos": {},
       "data": [
        [
         "006",
         "Lucas",
         "Taua",
         "ceara",
         "05-09-1984",
         1,
         39,
         "2024-01-26"
        ]
       ],
       "datasetInfos": [],
       "dbfsResultPath": null,
       "isJsonSchema": true,
       "metadata": {},
       "overflow": false,
       "plotOptions": {
        "customPlotOptions": {},
        "displayType": "table",
        "pivotAggregation": null,
        "pivotColumns": null,
        "xColumns": null,
        "yColumns": null
       },
       "removedWidgets": [],
       "schema": [
        {
         "metadata": "{}",
         "name": "cod_cli",
         "type": "\"string\""
        },
        {
         "metadata": "{}",
         "name": "Nome",
         "type": "\"string\""
        },
        {
         "metadata": "{}",
         "name": "Município",
         "type": "\"string\""
        },
        {
         "metadata": "{}",
         "name": "Estado",
         "type": "\"string\""
        },
        {
         "metadata": "{}",
         "name": "data_nascimento",
         "type": "\"string\""
        },
        {
         "metadata": "{}",
         "name": "qtd_municipio",
         "type": "\"long\""
        },
        {
         "metadata": "{}",
         "name": "Idade",
         "type": "\"integer\""
        },
        {
         "metadata": "{}",
         "name": "data_atualizacao",
         "type": "\"date\""
        }
       ],
       "type": "table"
      }
     },
     "output_type": "display_data"
    }
   ],
   "source": [
    "%sql\n",
    "SELECT * \n",
    "FROM   tblcliente cli\n",
    "WHERE  cli.estado = 'ceara'"
   ]
  },
  {
   "cell_type": "code",
   "execution_count": 0,
   "metadata": {
    "application/vnd.databricks.v1+cell": {
     "cellMetadata": {
      "byteLimit": 2048000,
      "rowLimit": 10000
     },
     "inputWidgets": {},
     "nuid": "850981e5-b9ae-4703-82e8-819278e06c92",
     "showTitle": false,
     "title": ""
    }
   },
   "outputs": [],
   "source": [
    "df_produto.createOrReplaceTempView('tblproduto')"
   ]
  },
  {
   "cell_type": "code",
   "execution_count": 0,
   "metadata": {
    "application/vnd.databricks.v1+cell": {
     "cellMetadata": {
      "byteLimit": 2048000,
      "implicitDf": true,
      "rowLimit": 10000
     },
     "inputWidgets": {},
     "nuid": "83064a0f-1c21-4362-97a3-0c0e2503ba3e",
     "showTitle": false,
     "title": ""
    }
   },
   "outputs": [
    {
     "output_type": "display_data",
     "data": {
      "text/html": [
       "<style scoped>\n",
       "  .table-result-container {\n",
       "    max-height: 300px;\n",
       "    overflow: auto;\n",
       "  }\n",
       "  table, th, td {\n",
       "    border: 1px solid black;\n",
       "    border-collapse: collapse;\n",
       "  }\n",
       "  th, td {\n",
       "    padding: 5px;\n",
       "  }\n",
       "  th {\n",
       "    text-align: left;\n",
       "  }\n",
       "</style><div class='table-result-container'><table class='table-result'><thead style='background-color: white'><tr><th>cod_cli</th><th>cod_prod</th><th>nome</th></tr></thead><tbody><tr><td>001</td><td>1</td><td>Televisor</td></tr><tr><td>002</td><td>1</td><td>Televisor</td></tr><tr><td>003</td><td>1</td><td>Televisor</td></tr><tr><td>004</td><td>3</td><td>Violao</td></tr><tr><td>005</td><td>5</td><td>Xbox One</td></tr><tr><td>006</td><td>10</td><td>Geladeira</td></tr></tbody></table></div>"
      ]
     },
     "metadata": {
      "application/vnd.databricks.v1+output": {
       "addedWidgets": {},
       "aggData": [],
       "aggError": "",
       "aggOverflow": false,
       "aggSchema": [],
       "aggSeriesLimitReached": false,
       "aggType": "",
       "arguments": {},
       "columnCustomDisplayInfos": {},
       "data": [
        [
         "001",
         "1",
         "Televisor"
        ],
        [
         "002",
         "1",
         "Televisor"
        ],
        [
         "003",
         "1",
         "Televisor"
        ],
        [
         "004",
         "3",
         "Violao"
        ],
        [
         "005",
         "5",
         "Xbox One"
        ],
        [
         "006",
         "10",
         "Geladeira"
        ]
       ],
       "datasetInfos": [],
       "dbfsResultPath": null,
       "isJsonSchema": true,
       "metadata": {},
       "overflow": false,
       "plotOptions": {
        "customPlotOptions": {},
        "displayType": "table",
        "pivotAggregation": null,
        "pivotColumns": null,
        "xColumns": null,
        "yColumns": null
       },
       "removedWidgets": [],
       "schema": [
        {
         "metadata": "{}",
         "name": "cod_cli",
         "type": "\"string\""
        },
        {
         "metadata": "{}",
         "name": "cod_prod",
         "type": "\"string\""
        },
        {
         "metadata": "{}",
         "name": "nome",
         "type": "\"string\""
        }
       ],
       "type": "table"
      }
     },
     "output_type": "display_data"
    }
   ],
   "source": [
    "%sql\n",
    "SELECT * \n",
    "FROM   tblproduto"
   ]
  },
  {
   "cell_type": "code",
   "execution_count": 0,
   "metadata": {
    "application/vnd.databricks.v1+cell": {
     "cellMetadata": {
      "byteLimit": 2048000,
      "rowLimit": 10000
     },
     "inputWidgets": {},
     "nuid": "87e27a78-2e33-4ad5-af41-4a1e43065c10",
     "showTitle": false,
     "title": ""
    }
   },
   "outputs": [],
   "source": [
    "df_venda_sql = sqlContext.sql(\n",
    "\"\"\"\n",
    "SELECT * \n",
    "FROM   tblcliente cli\n",
    "LEFT  JOIN tblproduto pro ON pro.cod_cli = cli.cod_cli\n",
    "WHERE  cli.estado = 'sao paulo'\n",
    "\"\"\"\n",
    ")"
   ]
  },
  {
   "cell_type": "code",
   "execution_count": 0,
   "metadata": {
    "application/vnd.databricks.v1+cell": {
     "cellMetadata": {
      "byteLimit": 2048000,
      "rowLimit": 10000
     },
     "inputWidgets": {},
     "nuid": "6c6ff6c3-aef4-4f0d-ac4e-9a26c9660512",
     "showTitle": false,
     "title": ""
    }
   },
   "outputs": [
    {
     "output_type": "stream",
     "name": "stdout",
     "output_type": "stream",
     "text": [
      "+-------+--------+---------+---------+---------------+-------------+-----+----------------+-------+--------+---------+\n|cod_cli|    Nome|Município|   Estado|data_nascimento|qtd_municipio|Idade|data_atualizacao|cod_cli|cod_prod|     nome|\n+-------+--------+---------+---------+---------------+-------------+-----+----------------+-------+--------+---------+\n|    001|    José| Anápolis|sao paulo|     01-09-1900|            3|  123|      2024-01-26|    001|       1|Televisor|\n|    002|    Igor| Anápolis|sao paulo|     11-09-1977|            3|   46|      2024-01-26|    002|       1|Televisor|\n|    003|Leonardo| Anápolis|sao paulo|     21-12-2000|            3|   23|      2024-01-26|    003|       1|Televisor|\n+-------+--------+---------+---------+---------------+-------------+-----+----------------+-------+--------+---------+\n\n"
     ]
    }
   ],
   "source": [
    "df_venda_sql.show()"
   ]
  },
  {
   "cell_type": "markdown",
   "metadata": {
    "application/vnd.databricks.v1+cell": {
     "cellMetadata": {
      "byteLimit": 2048000,
      "rowLimit": 10000
     },
     "inputWidgets": {},
     "nuid": "ead47d5b-1eaf-4417-8383-79fadc18aa9f",
     "showTitle": false,
     "title": ""
    }
   },
   "source": [
    "## Inicio Python"
   ]
  },
  {
   "cell_type": "code",
   "execution_count": 0,
   "metadata": {
    "application/vnd.databricks.v1+cell": {
     "cellMetadata": {
      "byteLimit": 2048000,
      "rowLimit": 10000
     },
     "inputWidgets": {},
     "nuid": "66fffca8-0413-404c-b2e4-87e7c182aef0",
     "showTitle": false,
     "title": ""
    }
   },
   "outputs": [],
   "source": [
    "lst_frutas = ['Abacaxi', 'Banana', 'Limão', 'framboesa', 'Morango', 'Uva', 'Pera']\n",
    "dic_frutas = {'1': 'Abacaxi', '2': 'Banana', '3': 'Limão', '4': 'framboesa', '5': 'Morango', '6': 'Uva', '7': 'Pera'}\n",
    "tup_frutas = ('Abacaxi', 'Banana', 'Limão', 'framboesa', 'Morango', 'Uva', 'Pera')"
   ]
  },
  {
   "cell_type": "code",
   "execution_count": 0,
   "metadata": {
    "application/vnd.databricks.v1+cell": {
     "cellMetadata": {
      "byteLimit": 2048000,
      "rowLimit": 10000
     },
     "inputWidgets": {},
     "nuid": "979f1338-eedf-4d7d-ab30-aea943014cfe",
     "showTitle": false,
     "title": ""
    }
   },
   "outputs": [
    {
     "output_type": "stream",
     "name": "stdout",
     "output_type": "stream",
     "text": [
      "['Abacaxi', 'Banana', 'Limão', 'framboesa', 'Morango', 'Uva', 'Pera']\n{'1': 'Abacaxi', '2': 'Banana', '3': 'Limão', '4': 'framboesa', '5': 'Morango', '6': 'Uva', '7': 'Pera'}\n('Abacaxi', 'Banana', 'Limão', 'framboesa', 'Morango', 'Uva', 'Pera')\n"
     ]
    }
   ],
   "source": [
    "print(lst_frutas)\n",
    "print(dic_frutas)\n",
    "print(tup_frutas)"
   ]
  },
  {
   "cell_type": "markdown",
   "metadata": {
    "application/vnd.databricks.v1+cell": {
     "cellMetadata": {
      "byteLimit": 2048000,
      "rowLimit": 10000
     },
     "inputWidgets": {},
     "nuid": "6abbcc8d-39fa-4bc4-8e0f-75f89b997de0",
     "showTitle": false,
     "title": ""
    }
   },
   "source": [
    "## Iterando sobre lista, dicionário e tuplas"
   ]
  },
  {
   "cell_type": "code",
   "execution_count": 0,
   "metadata": {
    "application/vnd.databricks.v1+cell": {
     "cellMetadata": {
      "byteLimit": 2048000,
      "rowLimit": 10000
     },
     "inputWidgets": {},
     "nuid": "e662dec1-a684-425e-98fb-8444d84f515f",
     "showTitle": false,
     "title": ""
    }
   },
   "outputs": [],
   "source": [
    "def listar_fruta():\n",
    "    for i in range(0, len(lst_frutas)):\n",
    "        print(lst_frutas[i])    "
   ]
  },
  {
   "cell_type": "code",
   "execution_count": 0,
   "metadata": {
    "application/vnd.databricks.v1+cell": {
     "cellMetadata": {
      "byteLimit": 2048000,
      "rowLimit": 10000
     },
     "inputWidgets": {},
     "nuid": "db947f44-a24b-4460-afca-34806aefd62e",
     "showTitle": false,
     "title": ""
    }
   },
   "outputs": [
    {
     "output_type": "stream",
     "name": "stdout",
     "output_type": "stream",
     "text": [
      "Abacaxi\nBanana\nLimão\nframboesa\nMorango\nUva\nPera\n"
     ]
    }
   ],
   "source": [
    "listar_fruta()"
   ]
  },
  {
   "cell_type": "code",
   "execution_count": 0,
   "metadata": {
    "application/vnd.databricks.v1+cell": {
     "cellMetadata": {
      "byteLimit": 2048000,
      "rowLimit": 10000
     },
     "inputWidgets": {},
     "nuid": "bba39160-6bc6-4dba-ac63-0252b7134169",
     "showTitle": false,
     "title": ""
    }
   },
   "outputs": [],
   "source": [
    "def listar_frutas_dict(dicionario):\n",
    "    for chave, valor in dicionario.items():\n",
    "        print(f'Chave: {chave}, Valor: {valor}')  "
   ]
  },
  {
   "cell_type": "code",
   "execution_count": 0,
   "metadata": {
    "application/vnd.databricks.v1+cell": {
     "cellMetadata": {
      "byteLimit": 2048000,
      "rowLimit": 10000
     },
     "inputWidgets": {},
     "nuid": "2d7200a5-219e-4888-8d93-611ade6d76fd",
     "showTitle": false,
     "title": ""
    }
   },
   "outputs": [
    {
     "output_type": "stream",
     "name": "stdout",
     "output_type": "stream",
     "text": [
      "Chave: 1, Valor: Abacaxi\nChave: 2, Valor: Banana\nChave: 3, Valor: Limão\nChave: 4, Valor: framboesa\nChave: 5, Valor: Morango\nChave: 6, Valor: Uva\nChave: 7, Valor: Pera\n"
     ]
    }
   ],
   "source": [
    "listar_frutas_dict(dic_frutas)"
   ]
  },
  {
   "cell_type": "code",
   "execution_count": 0,
   "metadata": {
    "application/vnd.databricks.v1+cell": {
     "cellMetadata": {
      "byteLimit": 2048000,
      "rowLimit": 10000
     },
     "inputWidgets": {},
     "nuid": "857ddf70-35b6-4e32-b35b-441ed5cd768a",
     "showTitle": false,
     "title": ""
    }
   },
   "outputs": [],
   "source": [
    "def listar_frutas_tupla(tupla):\n",
    "    for fruta in tupla:\n",
    "        print(fruta)"
   ]
  },
  {
   "cell_type": "code",
   "execution_count": 0,
   "metadata": {
    "application/vnd.databricks.v1+cell": {
     "cellMetadata": {
      "byteLimit": 2048000,
      "rowLimit": 10000
     },
     "inputWidgets": {},
     "nuid": "7f91a096-319d-47cf-8574-c9a1dae70de8",
     "showTitle": false,
     "title": ""
    }
   },
   "outputs": [
    {
     "output_type": "stream",
     "name": "stdout",
     "output_type": "stream",
     "text": [
      "Abacaxi\nBanana\nLimão\nframboesa\nMorango\nUva\nPera\n"
     ]
    }
   ],
   "source": [
    "listar_frutas_tupla(tup_frutas)"
   ]
  },
  {
   "cell_type": "markdown",
   "metadata": {
    "application/vnd.databricks.v1+cell": {
     "cellMetadata": {
      "byteLimit": 2048000,
      "rowLimit": 10000
     },
     "inputWidgets": {},
     "nuid": "5a5fccb8-195a-49e1-8253-cf0d83a0b3b3",
     "showTitle": false,
     "title": ""
    }
   },
   "source": [
    "## Manipulando os dados (Lista e Dicionários)"
   ]
  },
  {
   "cell_type": "code",
   "execution_count": 0,
   "metadata": {
    "application/vnd.databricks.v1+cell": {
     "cellMetadata": {
      "byteLimit": 2048000,
      "rowLimit": 10000
     },
     "inputWidgets": {},
     "nuid": "4a0688f5-cb72-40fc-89cb-87e3e91adfa8",
     "showTitle": false,
     "title": ""
    }
   },
   "outputs": [],
   "source": [
    "def excluir_item_lista(fruta):\n",
    "  if fruta in lst_frutas:\n",
    "    lst_frutas.remove(fruta)\n",
    "  return lst_frutas"
   ]
  },
  {
   "cell_type": "code",
   "execution_count": 0,
   "metadata": {
    "application/vnd.databricks.v1+cell": {
     "cellMetadata": {
      "byteLimit": 2048000,
      "rowLimit": 10000
     },
     "inputWidgets": {},
     "nuid": "cc32daf0-01cd-437a-9c92-cc559949d16c",
     "showTitle": false,
     "title": ""
    }
   },
   "outputs": [
    {
     "output_type": "stream",
     "name": "stdout",
     "output_type": "stream",
     "text": [
      "Out[169]: ['Abacaxi', 'Banana', 'framboesa', 'Morango', 'Uva', 'Pera']"
     ]
    }
   ],
   "source": [
    "excluir_item_lista('Limão')"
   ]
  },
  {
   "cell_type": "code",
   "execution_count": 0,
   "metadata": {
    "application/vnd.databricks.v1+cell": {
     "cellMetadata": {
      "byteLimit": 2048000,
      "rowLimit": 10000
     },
     "inputWidgets": {},
     "nuid": "9957c857-39b9-4ff8-bb80-4ccc8e015b95",
     "showTitle": false,
     "title": ""
    }
   },
   "outputs": [],
   "source": [
    "def excluir_item_dicionario(chave):\n",
    "  del dic_frutas[chave]\n",
    "  return dic_frutas"
   ]
  },
  {
   "cell_type": "code",
   "execution_count": 0,
   "metadata": {
    "application/vnd.databricks.v1+cell": {
     "cellMetadata": {
      "byteLimit": 2048000,
      "rowLimit": 10000
     },
     "inputWidgets": {},
     "nuid": "2125f9c2-4b70-44c3-8900-deac0393527c",
     "showTitle": false,
     "title": ""
    }
   },
   "outputs": [
    {
     "output_type": "stream",
     "name": "stdout",
     "output_type": "stream",
     "text": [
      "Out[171]: {'1': 'Abacaxi',\n '2': 'Banana',\n '4': 'framboesa',\n '5': 'Morango',\n '6': 'Uva',\n '7': 'Pera'}"
     ]
    }
   ],
   "source": [
    "excluir_item_dicionario('3')"
   ]
  },
  {
   "cell_type": "code",
   "execution_count": 0,
   "metadata": {
    "application/vnd.databricks.v1+cell": {
     "cellMetadata": {
      "byteLimit": 2048000,
      "rowLimit": 10000
     },
     "inputWidgets": {},
     "nuid": "0213cb22-65ff-439d-976b-5df0c9faf6e6",
     "showTitle": false,
     "title": ""
    }
   },
   "outputs": [],
   "source": [
    "def adicionar_item_lista(fruta):\n",
    "  if fruta not in lst_frutas:\n",
    "    lst_frutas.append(fruta)\n",
    "  return lst_frutas"
   ]
  },
  {
   "cell_type": "code",
   "execution_count": 0,
   "metadata": {
    "application/vnd.databricks.v1+cell": {
     "cellMetadata": {
      "byteLimit": 2048000,
      "rowLimit": 10000
     },
     "inputWidgets": {},
     "nuid": "25f434dc-bb06-4ca0-8418-56b797591a7a",
     "showTitle": false,
     "title": ""
    }
   },
   "outputs": [
    {
     "output_type": "stream",
     "name": "stdout",
     "output_type": "stream",
     "text": [
      "Out[173]: ['Abacaxi', 'Banana', 'framboesa', 'Morango', 'Uva', 'Pera', 'Amora']"
     ]
    }
   ],
   "source": [
    "adicionar_item_lista('Amora')"
   ]
  },
  {
   "cell_type": "code",
   "execution_count": 0,
   "metadata": {
    "application/vnd.databricks.v1+cell": {
     "cellMetadata": {
      "byteLimit": 2048000,
      "rowLimit": 10000
     },
     "inputWidgets": {},
     "nuid": "d70a8bc4-f223-40f1-b218-619c90c1b4b2",
     "showTitle": false,
     "title": ""
    }
   },
   "outputs": [],
   "source": [
    "def adicionar_fruta(dicionario, nova_fruta):\n",
    "    proximo_indice = str(max(map(int, dicionario.keys()), default=0) + 1)\n",
    "    if nova_fruta not in dicionario.values():\n",
    "        dicionario[proximo_indice] = nova_fruta\n",
    "    return dicionario"
   ]
  },
  {
   "cell_type": "code",
   "execution_count": 0,
   "metadata": {
    "application/vnd.databricks.v1+cell": {
     "cellMetadata": {
      "byteLimit": 2048000,
      "rowLimit": 10000
     },
     "inputWidgets": {},
     "nuid": "7771e01e-b0d6-42f8-822b-905ba2747966",
     "showTitle": false,
     "title": ""
    }
   },
   "outputs": [
    {
     "output_type": "stream",
     "name": "stdout",
     "output_type": "stream",
     "text": [
      "Out[178]: {'1': 'Abacaxi',\n '2': 'Banana',\n '4': 'framboesa',\n '5': 'Morango',\n '6': 'Uva',\n '7': 'Pera',\n '8': 'Maçã',\n '9': 'Laranja'}"
     ]
    }
   ],
   "source": [
    "adicionar_fruta(dic_frutas, 'Laranja')"
   ]
  }
 ],
 "metadata": {
  "application/vnd.databricks.v1+notebook": {
   "dashboards": [],
   "language": "python",
   "notebookMetadata": {
    "mostRecentlyExecutedCommandWithImplicitDF": {
     "commandId": 4294319623911164,
     "dataframes": [
      "_sqldf"
     ]
    },
    "pythonIndentUnit": 2
   },
   "notebookName": "Compilado_Entrevistas",
   "widgets": {}
  }
 },
 "nbformat": 4,
 "nbformat_minor": 0
}
